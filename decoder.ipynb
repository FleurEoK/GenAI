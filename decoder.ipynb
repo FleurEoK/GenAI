{
 "cells": [
  {
   "cell_type": "code",
   "execution_count": 1,
   "metadata": {},
   "outputs": [
    {
     "name": "stderr",
     "output_type": "stream",
     "text": [
      "c:\\Users\\ensin\\anaconda3\\envs\\pythonProject\\lib\\site-packages\\tqdm\\auto.py:21: TqdmWarning: IProgress not found. Please update jupyter and ipywidgets. See https://ipywidgets.readthedocs.io/en/stable/user_install.html\n",
      "  from .autonotebook import tqdm as notebook_tqdm\n"
     ]
    }
   ],
   "source": [
    "import torch\n",
    "import torch.nn as nn\n",
    "import torch.nn.functional as F\n",
    "import numpy as np"
   ]
  },
  {
   "cell_type": "code",
   "execution_count": null,
   "metadata": {},
   "outputs": [],
   "source": []
  },
  {
   "cell_type": "code",
   "execution_count": null,
   "metadata": {},
   "outputs": [],
   "source": []
  },
  {
   "cell_type": "code",
   "execution_count": 4,
   "metadata": {},
   "outputs": [],
   "source": [
    "class MultiHeadSelfAttention(nn.Module):\n",
    "    def __init__(self, num_emb, num_heads=8):\n",
    "        super().__init__()\n",
    "\n",
    "        self.D = num_emb\n",
    "        self.H = num_heads\n",
    "\n",
    "        self.w_k = nn.Linear(self.D, self.D * self.H)\n",
    "        self.w_q = nn.Linear(self.D, self.D * self.H)\n",
    "        self.w_v = nn.Linear(self.D, self.D * self.H)\n",
    "        self.w_c = nn.Linear(self.D * self.H, self.D)\n",
    "\n",
    "    def forward(self, x, causal=True):\n",
    "        B, T, D = x.size()\n",
    "\n",
    "        k = self.w_k(x).view(B, T, self.H, D) \n",
    "        q = self.w_q(x).view(B, T, self.H, D)\n",
    "        v = self.w_v(x).view(B, T, self.H, D)\n",
    "\n",
    "        k = k.transpose(1, 2).contiguous().view(B * self.H, T, D)\n",
    "        q = q.transpose(1, 2).contiguous().view(B * self.H, T, D)\n",
    "        v = v.transpose(1, 2).contiguous().view(B * self.H, T, D)\n",
    "\n",
    "        k = k / (D**0.25)\n",
    "        q = q / (D**0.25)\n",
    "\n",
    "        kq = torch.bmm(q, k.transpose(1, 2))\n",
    "\n",
    "        if causal:\n",
    "            mask = torch.triu_indices(T, T, offset=1)\n",
    "            kq[..., mask[0], mask[1]] = float('-inf')\n",
    "\n",
    "        skq = F.softmax(kq, dim=2)\n",
    "\n",
    "        sa = torch.bmm(skq, v)\n",
    "        sa = sa.view(B, self.H, T, D)\n",
    "        sa = sa.transpose(1, 2)\n",
    "        sa = sa.contiguous().view(B, T, D * self.H)\n",
    "\n",
    "        out = self.w_c(sa)\n",
    "\n",
    "        return out\n"
   ]
  },
  {
   "cell_type": "code",
   "execution_count": 5,
   "metadata": {},
   "outputs": [],
   "source": [
    "class TransformerBlock(nn.Module):\n",
    "    def __init__(self, num_emb, num_neurons, num_heads=4):\n",
    "        super().__init__()\n",
    "\n",
    "        self.D = num_emb\n",
    "        self.H = num_heads\n",
    "        self.neurons = num_neurons\n",
    "\n",
    "        self.msha = MultiHeadSelfAttention(num_emb=self.D, num_heads=self.H)\n",
    "        self.layer_norm1 = nn.LayerNorm(self.D)\n",
    "        self.layer_norm2 = nn.LayerNorm(self.D)\n",
    "\n",
    "        self.mlp = nn.Sequential(\n",
    "            nn.Linear(self.D, self.neurons * self.D),\n",
    "            nn.GELU(),\n",
    "            nn.Linear(self.neurons * self.D, self.D)\n",
    "        )\n",
    "\n",
    "    def forward(self, x, causal=True):\n",
    "        x_attn = self.msha(x, causal)\n",
    "        x = self.layer_norm1(x_attn + x)\n",
    "        x_mlp = self.mlp(x)\n",
    "        x = self.layer_norm2(x_mlp + x)\n",
    "\n",
    "        return x\n"
   ]
  },
  {
   "cell_type": "code",
   "execution_count": 2,
   "metadata": {},
   "outputs": [
    {
     "name": "stdout",
     "output_type": "stream",
     "text": [
      "Vocabulary Size: 15\n"
     ]
    }
   ],
   "source": [
    "from collections import Counter\n",
    "\n",
    "# Example poems\n",
    "poems = [\n",
    "    \"The sun sets in the west.\",\n",
    "    \"The moon shines bright at night.\",\n",
    "    \"Stars twinkle in the dark sky.\"\n",
    "]\n",
    "\n",
    "# Tokenize the poems\n",
    "tokens = [word for poem in poems for word in poem.lower().split()]\n",
    "\n",
    "# Build vocabulary\n",
    "vocab_counter = Counter(tokens)\n",
    "vocab = {word: idx for idx, (word, _) in enumerate(vocab_counter.items(), start=1)}\n",
    "\n",
    "# Add special tokens if needed\n",
    "vocab['<pad>'] = 0  # Padding token\n",
    "vocab_size = len(vocab)\n",
    "\n",
    "print(f\"Vocabulary Size: {vocab_size}\")\n"
   ]
  },
  {
   "cell_type": "code",
   "execution_count": 3,
   "metadata": {},
   "outputs": [
    {
     "name": "stdout",
     "output_type": "stream",
     "text": [
      "Embedding Layer: Embedding(15, 256)\n"
     ]
    }
   ],
   "source": [
    "import torch.nn as nn\n",
    "\n",
    "embedding_dim = 256  # Example embedding dimension\n",
    "\n",
    "embedding_layer = nn.Embedding(num_embeddings=vocab_size, embedding_dim=embedding_dim)\n",
    "\n",
    "print(f\"Embedding Layer: {embedding_layer}\")\n"
   ]
  },
  {
   "cell_type": "code",
   "execution_count": 6,
   "metadata": {},
   "outputs": [],
   "source": [
    "class DecoderTransformer(nn.Module):\n",
    "    def __init__(self, num_emb, emb_dimension, num_neurons, num_heads=4, num_layers=6):\n",
    "        super().__init__()\n",
    "\n",
    "        self.D = num_emb\n",
    "        self.layers = nn.ModuleList([\n",
    "            TransformerBlock(emb_dimension, num_neurons, num_heads)\n",
    "            for _ in range(num_layers)\n",
    "        ])\n",
    "\n",
    "        self.embedding = nn.Embedding(num_emb, emb_dimension)\n",
    "        self.positional_encoding = nn.Parameter(torch.zeros(1, 1000, num_emb))\n",
    "\n",
    "        self.output_layer = nn.Linear(emb_dimension, num_emb)\n",
    "\n",
    "    def forward(self, x, causal=True):\n",
    "        B, T = x.size()\n",
    "        x = self.embedding(x) + self.positional_encoding[:, :T, :]\n",
    "        for layer in self.layers:\n",
    "            x = layer(x, causal)\n",
    "        return self.output_layer(x)\n"
   ]
  },
  {
   "cell_type": "code",
   "execution_count": null,
   "metadata": {},
   "outputs": [],
   "source": [
    "def train_model(model, dataset, epochs=10, batch_size=32, learning_rate=1e-4):\n",
    "    dataloader = torch.utils.data.DataLoader(dataset, batch_size=batch_size, shuffle=True)\n",
    "    optimizer = torch.optim.Adam(model.parameters(), lr=learning_rate)\n",
    "    loss_fn = nn.CrossEntropyLoss()\n",
    "\n",
    "    model.train()\n",
    "\n",
    "    for epoch in range(epochs):\n",
    "        for batch in dataloader:\n",
    "            input_ids = batch['input_ids']\n",
    "            attention_mask = batch['attention_mask']\n",
    "            outputs = model(input_ids)\n",
    "            loss = loss_fn(outputs.transpose(1, 2), input_ids)\n",
    "\n",
    "            optimizer.zero_grad()\n",
    "            loss.backward()\n",
    "            optimizer.step()\n",
    "\n",
    "        print(f\"Epoch {epoch + 1}, Loss: {loss.item()}\")\n"
   ]
  },
  {
   "cell_type": "code",
   "execution_count": null,
   "metadata": {},
   "outputs": [],
   "source": []
  }
 ],
 "metadata": {
  "kernelspec": {
   "display_name": "pythonProject",
   "language": "python",
   "name": "python3"
  },
  "language_info": {
   "codemirror_mode": {
    "name": "ipython",
    "version": 3
   },
   "file_extension": ".py",
   "mimetype": "text/x-python",
   "name": "python",
   "nbconvert_exporter": "python",
   "pygments_lexer": "ipython3",
   "version": "3.10.4"
  }
 },
 "nbformat": 4,
 "nbformat_minor": 2
}
