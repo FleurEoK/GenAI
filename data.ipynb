{
 "cells": [
  {
   "cell_type": "code",
   "execution_count": null,
   "metadata": {},
   "outputs": [],
   "source": []
  },
  {
   "cell_type": "code",
   "execution_count": 11,
   "metadata": {},
   "outputs": [
    {
     "name": "stdout",
     "output_type": "stream",
     "text": [
      "0        dear writers, i’m compiling the first in what ...\n",
      "1        philosophic\\nin its complex, ovoid emptiness,\\...\n",
      "2        we'd  like  to  talk  with  you  about  fear t...\n",
      "3        the wise men will unlearn your name.\\nabove yo...\n",
      "4        for jack collom\\n10 things i do every day\\n\\np...\n",
      "                               ...                        \n",
      "15647    it’s too cold to smoke outside, but if you com...\n",
      "15648    if you like let the body feel\\nall its own evo...\n",
      "15649    (a fortune cookie)\\nominous inscrutable chines...\n",
      "15650    1\\nour last night in the house was not our las...\n",
      "15651    if your house\\nis a dress\\nit’ll fit like\\nlos...\n",
      "Name: Content, Length: 15651, dtype: object\n"
     ]
    }
   ],
   "source": [
    "import pandas as pd\n",
    "import numpy as np\n",
    "import matplotlib.pyplot as plt\n",
    "\n",
    "# import data \n",
    "data = pd.read_csv('kaggle_poem_dataset.csv')\n",
    "data = data.dropna()\n",
    "\n",
    "\n",
    "# store the poems in a new dataset\n",
    "poems = data['Content']\n",
    "\n",
    "# remove weird characters\n",
    "poems = poems.str.replace('[^\\w\\s]','')\n",
    "\n",
    "# set everything to lowercase\n",
    "poems = poems.str.lower()\n",
    "\n",
    "print(poems)\n",
    "poems.to_excel('poems.xlsx')\n",
    "\n",
    "# Lemmatize \n",
    "import nltk\n",
    "from nltk.stem import WordNetLemmatizer\n",
    "\n",
    "lemmatizer = WordNetLemmatizer()\n",
    "poems = poems.apply(lambda x: ' '.join([lemmatizer.lemmatize(word) for word in x.split()]))\n",
    "print(poems)"
   ]
  }
 ],
 "metadata": {
  "kernelspec": {
   "display_name": ".venv",
   "language": "python",
   "name": "python3"
  },
  "language_info": {
   "codemirror_mode": {
    "name": "ipython",
    "version": 3
   },
   "file_extension": ".py",
   "mimetype": "text/x-python",
   "name": "python",
   "nbconvert_exporter": "python",
   "pygments_lexer": "ipython3",
   "version": "3.10.11"
  }
 },
 "nbformat": 4,
 "nbformat_minor": 2
}
