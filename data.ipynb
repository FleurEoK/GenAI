{
 "cells": [
  {
   "cell_type": "code",
   "execution_count": null,
   "metadata": {},
   "outputs": [],
   "source": [
    "import pandas as pd\n",
    "import numpy as np\n",
    "import matplotlib.pyplot as plt\n",
    "\n",
    "# import data \n",
    "data = pd.read_csv('kaggle_poem_dataset.csv')\n",
    "data = data.dropna()\n",
    "\n",
    "\n",
    "# store the poems in a new dataset\n",
    "poems = data['Content']\n",
    "\n",
    "# remove weird characters\n",
    "poems = poems.str.replace('[^\\w\\s]','')\n",
    "\n",
    "# set everything to lowercase\n",
    "poems = poems.str.lower()\n",
    "\n",
    "print(poems)\n",
    "poems.to_excel('poems.xlsx')\n",
    "\n",
    "# Lemmatize \n",
    "import nltk\n",
    "from nltk.stem import WordNetLemmatizer\n",
    "\n",
    "lemmatizer = WordNetLemmatizer()\n",
    "poems = poems.apply(lambda x: ' '.join([lemmatizer.lemmatize(word) for word in x.split()]))\n",
    "print(poems)"
   ]
  }
 ],
 "metadata": {
  "kernelspec": {
   "display_name": ".venv",
   "language": "python",
   "name": "python3"
  },
  "language_info": {
   "name": "python",
   "version": "3.10.4"
  }
 },
 "nbformat": 4,
 "nbformat_minor": 2
}
